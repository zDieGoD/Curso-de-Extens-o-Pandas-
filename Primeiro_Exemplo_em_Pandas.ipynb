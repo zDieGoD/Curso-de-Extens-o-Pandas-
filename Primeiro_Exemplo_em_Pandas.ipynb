{
  "nbformat": 4,
  "nbformat_minor": 0,
  "metadata": {
    "colab": {
      "provenance": [],
      "authorship_tag": "ABX9TyNb2r/Z8xpiG+5siTDxyA96",
      "include_colab_link": true
    },
    "kernelspec": {
      "name": "python3",
      "display_name": "Python 3"
    },
    "language_info": {
      "name": "python"
    }
  },
  "cells": [
    {
      "cell_type": "markdown",
      "metadata": {
        "id": "view-in-github",
        "colab_type": "text"
      },
      "source": [
        "<a href=\"https://colab.research.google.com/github/zDieGoD/CursoExtensaoPythonPandas/blob/main/Primeiro_Exemplo_em_Pandas.ipynb\" target=\"_parent\"><img src=\"https://colab.research.google.com/assets/colab-badge.svg\" alt=\"Open In Colab\"/></a>"
      ]
    },
    {
      "cell_type": "markdown",
      "source": [
        "#Exemplo de manipulação de dados usando a biblioteca Pandas\n",
        "Autor : Diego da Silva Amaral"
      ],
      "metadata": {
        "id": "Pd9IerKjUbmv"
      }
    },
    {
      "cell_type": "code",
      "source": [
        "# Para instalar a biblioteca Pandas em outras IDES\n",
        "!pip install pandas \n"
      ],
      "metadata": {
        "id": "zVeHT3IwV-LE"
      },
      "execution_count": null,
      "outputs": []
    },
    {
      "cell_type": "code",
      "execution_count": 2,
      "metadata": {
        "id": "fZOJzCgJBDGk"
      },
      "outputs": [],
      "source": [
        "# Importando biblioteca pandas no Python\n",
        "import pandas as pd\n",
        "\n",
        "combustiveis_df = pd.read_excel(\"ca-2021-02.xlsx\")"
      ]
    },
    {
      "cell_type": "code",
      "source": [
        "# Usa o print para ver o dataframe \n",
        "print(combustiveis_df)\n"
      ],
      "metadata": {
        "id": "CzOrTtheA90z"
      },
      "execution_count": null,
      "outputs": []
    },
    {
      "cell_type": "code",
      "source": [
        "# Exibe as 5 primeiras linhas e as ultimas 5\n",
        "display(combustiveis_df)"
      ],
      "metadata": {
        "id": "4BA6D35zCH_m"
      },
      "execution_count": null,
      "outputs": []
    },
    {
      "cell_type": "code",
      "source": [
        "# Exibe as primeiras 5 linhas \n",
        "display(combustiveis_df.head())"
      ],
      "metadata": {
        "id": "vnh4dKuWC7Lo"
      },
      "execution_count": null,
      "outputs": []
    },
    {
      "cell_type": "code",
      "source": [
        "# Exibe as 15 primeiras linhas com o numero dentro do parentese\n",
        "display(combustiveis_df.head(15))"
      ],
      "metadata": {
        "id": "bnm5uD5VFKM0"
      },
      "execution_count": null,
      "outputs": []
    },
    {
      "cell_type": "code",
      "source": [
        "# Comandos Dataframe.shape() e Dataframe.describe()\n"
      ],
      "metadata": {
        "id": "3iqv7dhjGQtB"
      },
      "execution_count": 25,
      "outputs": []
    },
    {
      "cell_type": "code",
      "source": [
        "# Describe = mostra estatísticas \"mais básicas\" que a gente precisa\n",
        "print(combustiveis_df.describe())"
      ],
      "metadata": {
        "colab": {
          "base_uri": "https://localhost:8080/"
        },
        "id": "VWu91y7ZLJj-",
        "outputId": "47d4b432-2e6a-4048-afea-4418809d08a4"
      },
      "execution_count": 33,
      "outputs": [
        {
          "output_type": "stream",
          "name": "stdout",
          "text": [
            "       Valor de Venda  Valor de Compra\n",
            "count   168409.000000              0.0\n",
            "mean         6.005184              NaN\n",
            "std          0.794541              NaN\n",
            "min          2.849000              NaN\n",
            "25%          5.339000              NaN\n",
            "50%          5.859000              NaN\n",
            "75%          6.699000              NaN\n",
            "max          8.990000              NaN\n"
          ]
        }
      ]
    },
    {
      "cell_type": "code",
      "source": [
        "# Shape = total de linha e coluna\n",
        "print(combustiveis_df.shape)"
      ],
      "metadata": {
        "id": "KNp0eKGvKhHx"
      },
      "execution_count": null,
      "outputs": []
    },
    {
      "cell_type": "code",
      "source": [
        "# Quais são as colunas e que tipo de dados cada uma tem...\n",
        "print(combustiveis_df.info())"
      ],
      "metadata": {
        "id": "iTIANeUkHsiL"
      },
      "execution_count": null,
      "outputs": []
    },
    {
      "cell_type": "code",
      "source": [
        "# Filtragem de coluna\n",
        "display(combustiveis_df['Revenda'])"
      ],
      "metadata": {
        "id": "DS8chVUAWuNz"
      },
      "execution_count": null,
      "outputs": []
    },
    {
      "cell_type": "code",
      "source": [
        "# Criação de DF apenas com as colunas que quero\n",
        "ca_df = combustiveis_df[['Revenda', 'Municipio', 'Produto', 'Valor de Venda']]\n",
        "display(ca_df)\n"
      ],
      "metadata": {
        "id": "9u-4WAGuYmO6"
      },
      "execution_count": null,
      "outputs": []
    },
    {
      "cell_type": "code",
      "source": [
        "# Exibe a 4° linha.\n",
        "display(ca_df.loc[150000])"
      ],
      "metadata": {
        "id": "AJVhd2mEaMVT"
      },
      "execution_count": null,
      "outputs": []
    },
    {
      "cell_type": "code",
      "source": [
        "# Exibir da 10° Linha até a 20° linha\n",
        "display(ca_df.loc[9:19])"
      ],
      "metadata": {
        "id": "agEOndbFb1Z8"
      },
      "execution_count": null,
      "outputs": []
    },
    {
      "cell_type": "code",
      "source": [
        "# Criar uma dataframe gas_df contendo \n",
        "# apenas as 4 colunas (Revenda, Municipio, Produto, Valor de Venda)\n",
        "# somente com cobustível sendo GASOLINA e exibir na tela.\n",
        "\n",
        "gas_df = ca_df.loc[ca_df['Produto'] == 'GASOLINA']\n",
        "display(gas_df)\n",
        "\n",
        "display(gas_df['Valor de Venda'].max())\n"
      ],
      "metadata": {
        "id": "msZBW6e8hC5Y"
      },
      "execution_count": null,
      "outputs": []
    },
    {
      "cell_type": "code",
      "source": [
        "# Se eu quiser saber qual é o posto e municipio da gasolina mais cara do país?\n",
        "\n",
        "display(gas_df[['Revenda', 'Municipio', 'Valor de Venda']].max())\n",
        "\n",
        "\n"
      ],
      "metadata": {
        "id": "wi4N6lmPhNdk"
      },
      "execution_count": null,
      "outputs": []
    }
  ]
}